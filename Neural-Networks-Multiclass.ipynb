{
 "cells": [
  {
   "cell_type": "markdown",
   "id": "5260240c-daef-4758-a166-3ceb143215d8",
   "metadata": {},
   "source": [
    "# Neural Networks for Handwritten Digit Recognition (Multiclass - 0 to 9)\n",
    "\n",
    "- Build a deep learning model using TensorFlow and Keras to recognize handwritten digits (0-9) from the MNIST dataset.\n",
    "\n",
    "- Train the model, visualize learning curves, evaluate its performance, and predict unseen images.\n",
    "\n",
    "Tech Stack:\n",
    "\n",
    "- Python\n",
    "\n",
    "- TensorFlow / Keras\n",
    "\n",
    "- Scikit-learn\n",
    "\n",
    "- Matplotlib\n",
    "\n",
    "- NumPy\n",
    "\n",
    "Problem Type:\n",
    "\n",
    "- Multiclass Classification (10 classes: 0, 1, 2, ..., 9)"
   ]
  },
  {
   "cell_type": "markdown",
   "id": "184fae9e-13b5-4c9f-89c0-4ca0239c8e36",
   "metadata": {},
   "source": [
    "## Import Libraries"
   ]
  },
  {
   "cell_type": "code",
   "execution_count": 19,
   "id": "0e340c46-f9df-4c9c-a3aa-60013b7c16b1",
   "metadata": {},
   "outputs": [],
   "source": [
    "# Import necessary libraries\n",
    "import numpy as np\n",
    "import matplotlib.pyplot as plt\n",
    "from sklearn.model_selection import train_test_split\n",
    "from sklearn.datasets import fetch_openml\n",
    "from sklearn.preprocessing import StandardScaler\n",
    "import tensorflow as tf\n",
    "from tensorflow.keras import layers, models"
   ]
  },
  {
   "cell_type": "markdown",
   "id": "43c1a35b-abaf-4438-812a-ed1e4261cfa7",
   "metadata": {},
   "source": [
    "## Load the MNIST Dataset\n",
    "\n",
    "- MNIST dataset: 70,000 images of handwritten digits.\n",
    "\n",
    "- Each image is 28x28 pixels, flattened into 784 features.\n",
    "\n",
    "- X = pixel values, y = corresponding digit (0-9)."
   ]
  },
  {
   "cell_type": "code",
   "execution_count": 20,
   "id": "5b54a644-5375-466f-ad57-e15106c15dc8",
   "metadata": {},
   "outputs": [],
   "source": [
    "# Set random seed for reproducibility\n",
    "np.random.seed(42)\n",
    "tf.random.set_seed(42)"
   ]
  },
  {
   "cell_type": "code",
   "execution_count": 21,
   "id": "0b933ca0-3464-4d69-8ad7-0727031fd44b",
   "metadata": {},
   "outputs": [],
   "source": [
    "# Load the MNIST dataset (real handwritten digits dataset)\n",
    "X, y = fetch_openml('mnist_784', version=1, return_X_y=True, as_frame=False)"
   ]
  },
  {
   "cell_type": "markdown",
   "id": "72d2ea80-c000-4a57-857b-bde6f3b13645",
   "metadata": {},
   "source": [
    "## Data Preprocessing\n",
    "\n",
    "- Normalization: Scale pixel values to [0, 1] range.\n",
    "\n",
    "- Type conversion: Make sure y values are integers for classification."
   ]
  },
  {
   "cell_type": "code",
   "execution_count": 22,
   "id": "b5966b1c-0ca4-4eb1-915d-24a993f45435",
   "metadata": {},
   "outputs": [],
   "source": [
    "# Preprocessing\n",
    "X = X / 255.0  # Normalize pixel values to 0-1\n",
    "y = y.astype(np.int32)  # Ensure y is integers (0-9)"
   ]
  },
  {
   "cell_type": "markdown",
   "id": "a0b24a54-b0b1-4819-9463-6397af3dd537",
   "metadata": {},
   "source": [
    "## Split Data into Train, Validation, and Test Sets\n",
    "\n",
    "- Training set: 64% of data\n",
    "\n",
    "- Validation set: 16% of data\n",
    "\n",
    "- Testing set: 20% of data\n",
    "\n",
    "We train the model on training data and validate on validation data."
   ]
  },
  {
   "cell_type": "code",
   "execution_count": 23,
   "id": "464ab7f0-2af1-4448-a82b-519f9e240140",
   "metadata": {},
   "outputs": [],
   "source": [
    "# Split into training and test sets\n",
    "X_train_full, X_test, y_train_full, y_test = train_test_split(X, y, test_size=0.2, random_state=42)"
   ]
  },
  {
   "cell_type": "code",
   "execution_count": 24,
   "id": "b0840d6a-cd87-423f-9d90-0be44fb9e303",
   "metadata": {},
   "outputs": [],
   "source": [
    "# Further split training data into train and validation sets\n",
    "X_train, X_valid, y_train, y_valid = train_test_split(X_train_full, y_train_full, test_size=0.2, random_state=42)"
   ]
  },
  {
   "cell_type": "markdown",
   "id": "380becd2-b501-4a01-943c-bd31e6c422cc",
   "metadata": {},
   "source": [
    "## Build the Neural Network Model\n",
    "\n",
    "- Input layer: 784 neurons (one for each pixel)\n",
    "\n",
    "- Hidden layers:\n",
    "\n",
    "    128 neurons (ReLU activation)\n",
    "\n",
    "    64 neurons (ReLU activation)\n",
    "\n",
    "- Output layer:\n",
    "\n",
    "    10 neurons (Softmax activation for 10 classes: 0-9)\n",
    "\n",
    "Softmax gives the probability for each class."
   ]
  },
  {
   "cell_type": "code",
   "execution_count": 25,
   "id": "bfb88f50-8f97-4523-8fce-acfffb3f5d1f",
   "metadata": {},
   "outputs": [],
   "source": [
    "# Build the Neural Network model\n",
    "model = models.Sequential([\n",
    "    layers.Input(shape=(784,)),            # 28x28 flattened into 784\n",
    "    layers.Dense(128, activation='relu'),   # 1st hidden layer\n",
    "    layers.Dense(64, activation='relu'),    # 2nd hidden layer\n",
    "    layers.Dense(10, activation='softmax')  # Output layer for 10 classes (0-9)\n",
    "])"
   ]
  },
  {
   "cell_type": "markdown",
   "id": "8b949bb1-66ee-4765-93e1-e1ad2a067516",
   "metadata": {},
   "source": [
    "## Compile the Model\n",
    "\n",
    "- Optimizer: Adam — adjusts learning rate automatically.\n",
    "\n",
    "- Loss: Sparse Categorical Crossentropy (for multiclass classification with integer labels).\n",
    "\n",
    "- Metrics: Accuracy (how many predictions were correct)."
   ]
  },
  {
   "cell_type": "code",
   "execution_count": 26,
   "id": "c194901e-89d6-4120-9a17-63f4c7b9b936",
   "metadata": {},
   "outputs": [],
   "source": [
    "# Compile the model\n",
    "model.compile(\n",
    "    optimizer='adam',                         # Adam optimizer\n",
    "    loss='sparse_categorical_crossentropy',   # Suitable for integer labels in multiclass\n",
    "    metrics=['accuracy']                      # Track accuracy during training\n",
    ")"
   ]
  },
  {
   "cell_type": "markdown",
   "id": "6aa54ae0-0c7f-4121-b778-a64ee4be1c6b",
   "metadata": {},
   "source": [
    "## Show Model Summary"
   ]
  },
  {
   "cell_type": "code",
   "execution_count": 27,
   "id": "f9f52969-dea0-40cf-a434-512862e79f14",
   "metadata": {},
   "outputs": [
    {
     "data": {
      "text/html": [
       "<pre style=\"white-space:pre;overflow-x:auto;line-height:normal;font-family:Menlo,'DejaVu Sans Mono',consolas,'Courier New',monospace\"><span style=\"font-weight: bold\">Model: \"sequential_1\"</span>\n",
       "</pre>\n"
      ],
      "text/plain": [
       "\u001b[1mModel: \"sequential_1\"\u001b[0m\n"
      ]
     },
     "metadata": {},
     "output_type": "display_data"
    },
    {
     "data": {
      "text/html": [
       "<pre style=\"white-space:pre;overflow-x:auto;line-height:normal;font-family:Menlo,'DejaVu Sans Mono',consolas,'Courier New',monospace\">┏━━━━━━━━━━━━━━━━━━━━━━━━━━━━━━━━━━━━━━┳━━━━━━━━━━━━━━━━━━━━━━━━━━━━━┳━━━━━━━━━━━━━━━━━┓\n",
       "┃<span style=\"font-weight: bold\"> Layer (type)                         </span>┃<span style=\"font-weight: bold\"> Output Shape                </span>┃<span style=\"font-weight: bold\">         Param # </span>┃\n",
       "┡━━━━━━━━━━━━━━━━━━━━━━━━━━━━━━━━━━━━━━╇━━━━━━━━━━━━━━━━━━━━━━━━━━━━━╇━━━━━━━━━━━━━━━━━┩\n",
       "│ dense_3 (<span style=\"color: #0087ff; text-decoration-color: #0087ff\">Dense</span>)                      │ (<span style=\"color: #00d7ff; text-decoration-color: #00d7ff\">None</span>, <span style=\"color: #00af00; text-decoration-color: #00af00\">128</span>)                 │         <span style=\"color: #00af00; text-decoration-color: #00af00\">100,480</span> │\n",
       "├──────────────────────────────────────┼─────────────────────────────┼─────────────────┤\n",
       "│ dense_4 (<span style=\"color: #0087ff; text-decoration-color: #0087ff\">Dense</span>)                      │ (<span style=\"color: #00d7ff; text-decoration-color: #00d7ff\">None</span>, <span style=\"color: #00af00; text-decoration-color: #00af00\">64</span>)                  │           <span style=\"color: #00af00; text-decoration-color: #00af00\">8,256</span> │\n",
       "├──────────────────────────────────────┼─────────────────────────────┼─────────────────┤\n",
       "│ dense_5 (<span style=\"color: #0087ff; text-decoration-color: #0087ff\">Dense</span>)                      │ (<span style=\"color: #00d7ff; text-decoration-color: #00d7ff\">None</span>, <span style=\"color: #00af00; text-decoration-color: #00af00\">10</span>)                  │             <span style=\"color: #00af00; text-decoration-color: #00af00\">650</span> │\n",
       "└──────────────────────────────────────┴─────────────────────────────┴─────────────────┘\n",
       "</pre>\n"
      ],
      "text/plain": [
       "┏━━━━━━━━━━━━━━━━━━━━━━━━━━━━━━━━━━━━━━┳━━━━━━━━━━━━━━━━━━━━━━━━━━━━━┳━━━━━━━━━━━━━━━━━┓\n",
       "┃\u001b[1m \u001b[0m\u001b[1mLayer (type)                        \u001b[0m\u001b[1m \u001b[0m┃\u001b[1m \u001b[0m\u001b[1mOutput Shape               \u001b[0m\u001b[1m \u001b[0m┃\u001b[1m \u001b[0m\u001b[1m        Param #\u001b[0m\u001b[1m \u001b[0m┃\n",
       "┡━━━━━━━━━━━━━━━━━━━━━━━━━━━━━━━━━━━━━━╇━━━━━━━━━━━━━━━━━━━━━━━━━━━━━╇━━━━━━━━━━━━━━━━━┩\n",
       "│ dense_3 (\u001b[38;5;33mDense\u001b[0m)                      │ (\u001b[38;5;45mNone\u001b[0m, \u001b[38;5;34m128\u001b[0m)                 │         \u001b[38;5;34m100,480\u001b[0m │\n",
       "├──────────────────────────────────────┼─────────────────────────────┼─────────────────┤\n",
       "│ dense_4 (\u001b[38;5;33mDense\u001b[0m)                      │ (\u001b[38;5;45mNone\u001b[0m, \u001b[38;5;34m64\u001b[0m)                  │           \u001b[38;5;34m8,256\u001b[0m │\n",
       "├──────────────────────────────────────┼─────────────────────────────┼─────────────────┤\n",
       "│ dense_5 (\u001b[38;5;33mDense\u001b[0m)                      │ (\u001b[38;5;45mNone\u001b[0m, \u001b[38;5;34m10\u001b[0m)                  │             \u001b[38;5;34m650\u001b[0m │\n",
       "└──────────────────────────────────────┴─────────────────────────────┴─────────────────┘\n"
      ]
     },
     "metadata": {},
     "output_type": "display_data"
    },
    {
     "data": {
      "text/html": [
       "<pre style=\"white-space:pre;overflow-x:auto;line-height:normal;font-family:Menlo,'DejaVu Sans Mono',consolas,'Courier New',monospace\"><span style=\"font-weight: bold\"> Total params: </span><span style=\"color: #00af00; text-decoration-color: #00af00\">109,386</span> (427.29 KB)\n",
       "</pre>\n"
      ],
      "text/plain": [
       "\u001b[1m Total params: \u001b[0m\u001b[38;5;34m109,386\u001b[0m (427.29 KB)\n"
      ]
     },
     "metadata": {},
     "output_type": "display_data"
    },
    {
     "data": {
      "text/html": [
       "<pre style=\"white-space:pre;overflow-x:auto;line-height:normal;font-family:Menlo,'DejaVu Sans Mono',consolas,'Courier New',monospace\"><span style=\"font-weight: bold\"> Trainable params: </span><span style=\"color: #00af00; text-decoration-color: #00af00\">109,386</span> (427.29 KB)\n",
       "</pre>\n"
      ],
      "text/plain": [
       "\u001b[1m Trainable params: \u001b[0m\u001b[38;5;34m109,386\u001b[0m (427.29 KB)\n"
      ]
     },
     "metadata": {},
     "output_type": "display_data"
    },
    {
     "data": {
      "text/html": [
       "<pre style=\"white-space:pre;overflow-x:auto;line-height:normal;font-family:Menlo,'DejaVu Sans Mono',consolas,'Courier New',monospace\"><span style=\"font-weight: bold\"> Non-trainable params: </span><span style=\"color: #00af00; text-decoration-color: #00af00\">0</span> (0.00 B)\n",
       "</pre>\n"
      ],
      "text/plain": [
       "\u001b[1m Non-trainable params: \u001b[0m\u001b[38;5;34m0\u001b[0m (0.00 B)\n"
      ]
     },
     "metadata": {},
     "output_type": "display_data"
    }
   ],
   "source": [
    "# Show model architecture\n",
    "model.summary()"
   ]
  },
  {
   "cell_type": "markdown",
   "id": "6bd92beb-7202-40e1-b272-5887f1a2df52",
   "metadata": {},
   "source": [
    "## Train the Model\n",
    "\n",
    "- X_train, y_train: data to train\n",
    "\n",
    "- epochs=20: go through entire dataset 20 times\n",
    "\n",
    "- batch_size=32: updates weights after every 32 examples\n",
    "\n",
    "- Validation data is checked at end of each epoch."
   ]
  },
  {
   "cell_type": "code",
   "execution_count": 28,
   "id": "e2710dec-4c1e-4a03-9f68-bb5a27edaec6",
   "metadata": {},
   "outputs": [
    {
     "name": "stdout",
     "output_type": "stream",
     "text": [
      "Epoch 1/20\n",
      "\u001b[1m1400/1400\u001b[0m \u001b[32m━━━━━━━━━━━━━━━━━━━━\u001b[0m\u001b[37m\u001b[0m \u001b[1m3s\u001b[0m 2ms/step - accuracy: 0.8514 - loss: 0.4983 - val_accuracy: 0.9516 - val_loss: 0.1582\n",
      "Epoch 2/20\n",
      "\u001b[1m1400/1400\u001b[0m \u001b[32m━━━━━━━━━━━━━━━━━━━━\u001b[0m\u001b[37m\u001b[0m \u001b[1m2s\u001b[0m 1ms/step - accuracy: 0.9621 - loss: 0.1284 - val_accuracy: 0.9622 - val_loss: 0.1198\n",
      "Epoch 3/20\n",
      "\u001b[1m1400/1400\u001b[0m \u001b[32m━━━━━━━━━━━━━━━━━━━━\u001b[0m\u001b[37m\u001b[0m \u001b[1m2s\u001b[0m 1ms/step - accuracy: 0.9735 - loss: 0.0867 - val_accuracy: 0.9673 - val_loss: 0.1053\n",
      "Epoch 4/20\n",
      "\u001b[1m1400/1400\u001b[0m \u001b[32m━━━━━━━━━━━━━━━━━━━━\u001b[0m\u001b[37m\u001b[0m \u001b[1m2s\u001b[0m 1ms/step - accuracy: 0.9813 - loss: 0.0625 - val_accuracy: 0.9689 - val_loss: 0.1112\n",
      "Epoch 5/20\n",
      "\u001b[1m1400/1400\u001b[0m \u001b[32m━━━━━━━━━━━━━━━━━━━━\u001b[0m\u001b[37m\u001b[0m \u001b[1m2s\u001b[0m 2ms/step - accuracy: 0.9863 - loss: 0.0458 - val_accuracy: 0.9688 - val_loss: 0.1094\n",
      "Epoch 6/20\n",
      "\u001b[1m1400/1400\u001b[0m \u001b[32m━━━━━━━━━━━━━━━━━━━━\u001b[0m\u001b[37m\u001b[0m \u001b[1m2s\u001b[0m 1ms/step - accuracy: 0.9892 - loss: 0.0354 - val_accuracy: 0.9692 - val_loss: 0.1184\n",
      "Epoch 7/20\n",
      "\u001b[1m1400/1400\u001b[0m \u001b[32m━━━━━━━━━━━━━━━━━━━━\u001b[0m\u001b[37m\u001b[0m \u001b[1m2s\u001b[0m 1ms/step - accuracy: 0.9912 - loss: 0.0299 - val_accuracy: 0.9727 - val_loss: 0.1128\n",
      "Epoch 8/20\n",
      "\u001b[1m1400/1400\u001b[0m \u001b[32m━━━━━━━━━━━━━━━━━━━━\u001b[0m\u001b[37m\u001b[0m \u001b[1m2s\u001b[0m 1ms/step - accuracy: 0.9922 - loss: 0.0257 - val_accuracy: 0.9724 - val_loss: 0.1067\n",
      "Epoch 9/20\n",
      "\u001b[1m1400/1400\u001b[0m \u001b[32m━━━━━━━━━━━━━━━━━━━━\u001b[0m\u001b[37m\u001b[0m \u001b[1m2s\u001b[0m 1ms/step - accuracy: 0.9924 - loss: 0.0225 - val_accuracy: 0.9761 - val_loss: 0.1046\n",
      "Epoch 10/20\n",
      "\u001b[1m1400/1400\u001b[0m \u001b[32m━━━━━━━━━━━━━━━━━━━━\u001b[0m\u001b[37m\u001b[0m \u001b[1m2s\u001b[0m 1ms/step - accuracy: 0.9942 - loss: 0.0160 - val_accuracy: 0.9758 - val_loss: 0.1097\n",
      "Epoch 11/20\n",
      "\u001b[1m1400/1400\u001b[0m \u001b[32m━━━━━━━━━━━━━━━━━━━━\u001b[0m\u001b[37m\u001b[0m \u001b[1m2s\u001b[0m 1ms/step - accuracy: 0.9939 - loss: 0.0172 - val_accuracy: 0.9746 - val_loss: 0.1188\n",
      "Epoch 12/20\n",
      "\u001b[1m1400/1400\u001b[0m \u001b[32m━━━━━━━━━━━━━━━━━━━━\u001b[0m\u001b[37m\u001b[0m \u001b[1m2s\u001b[0m 1ms/step - accuracy: 0.9920 - loss: 0.0218 - val_accuracy: 0.9755 - val_loss: 0.1247\n",
      "Epoch 13/20\n",
      "\u001b[1m1400/1400\u001b[0m \u001b[32m━━━━━━━━━━━━━━━━━━━━\u001b[0m\u001b[37m\u001b[0m \u001b[1m2s\u001b[0m 1ms/step - accuracy: 0.9949 - loss: 0.0144 - val_accuracy: 0.9768 - val_loss: 0.1182\n",
      "Epoch 14/20\n",
      "\u001b[1m1400/1400\u001b[0m \u001b[32m━━━━━━━━━━━━━━━━━━━━\u001b[0m\u001b[37m\u001b[0m \u001b[1m2s\u001b[0m 1ms/step - accuracy: 0.9945 - loss: 0.0144 - val_accuracy: 0.9745 - val_loss: 0.1362\n",
      "Epoch 15/20\n",
      "\u001b[1m1400/1400\u001b[0m \u001b[32m━━━━━━━━━━━━━━━━━━━━\u001b[0m\u001b[37m\u001b[0m \u001b[1m2s\u001b[0m 1ms/step - accuracy: 0.9955 - loss: 0.0132 - val_accuracy: 0.9723 - val_loss: 0.1553\n",
      "Epoch 16/20\n",
      "\u001b[1m1400/1400\u001b[0m \u001b[32m━━━━━━━━━━━━━━━━━━━━\u001b[0m\u001b[37m\u001b[0m \u001b[1m2s\u001b[0m 1ms/step - accuracy: 0.9954 - loss: 0.0126 - val_accuracy: 0.9739 - val_loss: 0.1447\n",
      "Epoch 17/20\n",
      "\u001b[1m1400/1400\u001b[0m \u001b[32m━━━━━━━━━━━━━━━━━━━━\u001b[0m\u001b[37m\u001b[0m \u001b[1m2s\u001b[0m 2ms/step - accuracy: 0.9952 - loss: 0.0142 - val_accuracy: 0.9759 - val_loss: 0.1378\n",
      "Epoch 18/20\n",
      "\u001b[1m1400/1400\u001b[0m \u001b[32m━━━━━━━━━━━━━━━━━━━━\u001b[0m\u001b[37m\u001b[0m \u001b[1m2s\u001b[0m 1ms/step - accuracy: 0.9966 - loss: 0.0101 - val_accuracy: 0.9735 - val_loss: 0.1588\n",
      "Epoch 19/20\n",
      "\u001b[1m1400/1400\u001b[0m \u001b[32m━━━━━━━━━━━━━━━━━━━━\u001b[0m\u001b[37m\u001b[0m \u001b[1m2s\u001b[0m 1ms/step - accuracy: 0.9972 - loss: 0.0093 - val_accuracy: 0.9751 - val_loss: 0.1479\n",
      "Epoch 20/20\n",
      "\u001b[1m1400/1400\u001b[0m \u001b[32m━━━━━━━━━━━━━━━━━━━━\u001b[0m\u001b[37m\u001b[0m \u001b[1m2s\u001b[0m 1ms/step - accuracy: 0.9966 - loss: 0.0100 - val_accuracy: 0.9783 - val_loss: 0.1329\n"
     ]
    }
   ],
   "source": [
    "# Train the model\n",
    "history = model.fit(\n",
    "    X_train, y_train,\n",
    "    epochs=20,\n",
    "    validation_data=(X_valid, y_valid),\n",
    "    batch_size=32\n",
    ")"
   ]
  },
  {
   "cell_type": "markdown",
   "id": "848429a4-6ec3-4916-b730-c5c294cb79a6",
   "metadata": {},
   "source": [
    "## Plot Training and Validation Graphs\n",
    "\n",
    "- Loss vs Epochs: how well the model is minimizing error.\n",
    "\n",
    "- Accuracy vs Epochs: how accurately the model is predicting.\n",
    "\n",
    "2 subplots show Training and Validation curves together."
   ]
  },
  {
   "cell_type": "code",
   "execution_count": 29,
   "id": "46b1e97d-1645-421b-8c16-08d0028e2ac9",
   "metadata": {},
   "outputs": [
    {
     "data": {
      "text/plain": [
       "<matplotlib.legend.Legend at 0x19c6aa8dd60>"
      ]
     },
     "execution_count": 29,
     "metadata": {},
     "output_type": "execute_result"
    },
    {
     "data": {
      "image/png": "[encoded data removed]",
      "text/plain": [
       "<Figure size 1200x500 with 1 Axes>"
      ]
     },
     "metadata": {},
     "output_type": "display_data"
    }
   ],
   "source": [
    "# Plot Loss\n",
    "plt.figure(figsize=(12, 5))\n",
    "\n",
    "plt.subplot(1, 2, 1)\n",
    "plt.plot(history.history['loss'], label='Train Loss')\n",
    "plt.plot(history.history['val_loss'], label='Validation Loss')\n",
    "plt.title('Loss over Epochs')\n",
    "plt.xlabel('Epochs')\n",
    "plt.ylabel('Loss')\n",
    "plt.legend()"
   ]
  },
  {
   "cell_type": "code",
   "execution_count": 30,
   "id": "6cc8c660-4872-47ba-9667-c98616361be7",
   "metadata": {},
   "outputs": [
    {
     "data": {
      "image/png": "[encoded data removed]",
      "text/plain": [
       "<Figure size 640x480 with 1 Axes>"
      ]
     },
     "metadata": {},
     "output_type": "display_data"
    }
   ],
   "source": [
    "# Plot Accuracy\n",
    "plt.subplot(1, 2, 2)\n",
    "plt.plot(history.history['accuracy'], label='Train Accuracy')\n",
    "plt.plot(history.history['val_accuracy'], label='Validation Accuracy')\n",
    "plt.title('Accuracy over Epochs')\n",
    "plt.xlabel('Epochs')\n",
    "plt.ylabel('Accuracy')\n",
    "plt.legend()\n",
    "\n",
    "plt.show()"
   ]
  },
  {
   "cell_type": "markdown",
   "id": "580609d3-35f0-44bc-857f-cbecbe808649",
   "metadata": {},
   "source": [
    "## Evaluate on Test Data\n",
    "\n",
    "Evaluates final test loss and test accuracy on unseen data."
   ]
  },
  {
   "cell_type": "code",
   "execution_count": 31,
   "id": "b2f1094c-9977-4f46-81d8-186dc2e1c376",
   "metadata": {},
   "outputs": [
    {
     "name": "stdout",
     "output_type": "stream",
     "text": [
      "\u001b[1m438/438\u001b[0m \u001b[32m━━━━━━━━━━━━━━━━━━━━\u001b[0m\u001b[37m\u001b[0m \u001b[1m1s\u001b[0m 928us/step - accuracy: 0.9756 - loss: 0.1482\n",
      "\n",
      " Test Loss: 0.1517\n",
      "Test Accuracy: 97.5 %\n"
     ]
    }
   ],
   "source": [
    "# Evaluate the model on Test Data\n",
    "test_loss, test_accuracy = model.evaluate(X_test, y_test)\n",
    "print(\"\\n Test Loss:\", round(test_loss, 4))\n",
    "print(\"Test Accuracy:\", round(test_accuracy*100, 2), \"%\")"
   ]
  },
  {
   "cell_type": "markdown",
   "id": "39923194-1106-404b-8ec2-0cb721ad9fa5",
   "metadata": {},
   "source": [
    "## Make Predictions\n",
    "\n",
    "- Predict probabilities for 5 test samples.\n",
    "\n",
    "- argmax gets the most likely predicted label.\n",
    "\n",
    "Also, plot the 5 images with:\n",
    "\n",
    "- Predicted Label\n",
    "\n",
    "- True Label"
   ]
  },
  {
   "cell_type": "code",
   "execution_count": 32,
   "id": "2c755b93-7356-47fe-ab5c-1b11f69ff9ce",
   "metadata": {},
   "outputs": [
    {
     "name": "stdout",
     "output_type": "stream",
     "text": [
      "\u001b[1m1/1\u001b[0m \u001b[32m━━━━━━━━━━━━━━━━━━━━\u001b[0m\u001b[37m\u001b[0m \u001b[1m0s\u001b[0m 50ms/step\n"
     ]
    }
   ],
   "source": [
    "# Make predictions on some sample test images\n",
    "predictions = model.predict(X_test[:5])\n",
    "predicted_labels = np.argmax(predictions, axis=1)"
   ]
  },
  {
   "cell_type": "code",
   "execution_count": 33,
   "id": "f8909d9f-ad16-4a1c-9a67-ffa455545698",
   "metadata": {},
   "outputs": [
    {
     "name": "stdout",
     "output_type": "stream",
     "text": [
      "\n",
      "Predicted labels: [8 4 8 7 7]\n",
      "Actual labels:    [8 4 8 7 7]\n"
     ]
    }
   ],
   "source": [
    "# Show Predictions\n",
    "print(\"\\nPredicted labels:\", predicted_labels)\n",
    "print(\"Actual labels:   \", y_test[:5])"
   ]
  },
  {
   "cell_type": "code",
   "execution_count": 34,
   "id": "d95ea120-f05a-4d43-8684-dd89b305ca7d",
   "metadata": {},
   "outputs": [
    {
     "data": {
      "image/png": "[encoded data removed]",
      "text/plain": [
       "<Figure size 1000x200 with 5 Axes>"
      ]
     },
     "metadata": {},
     "output_type": "display_data"
    }
   ],
   "source": [
    "# Visualize sample predictions\n",
    "plt.figure(figsize=(10, 2))\n",
    "for i in range(5):\n",
    "    plt.subplot(1, 5, i + 1)\n",
    "    plt.imshow(X_test[i].reshape(28, 28), cmap=\"binary\")\n",
    "    plt.title(f\"Pred: {predicted_labels[i]}\\nTrue: {y_test[i]}\")\n",
    "    plt.axis('off')\n",
    "plt.tight_layout()\n",
    "plt.show()"
   ]
  },
  {
   "cell_type": "code",
   "execution_count": null,
   "id": "b704898f-eab5-425e-9f24-fbb54aaa51ee",
   "metadata": {},
   "outputs": [],
   "source": []
  }
 ],
 "metadata": {
  "kernelspec": {
   "display_name": "Python 3 (ipykernel)",
   "language": "python",
   "name": "python3"
  },
  "language_info": {
   "codemirror_mode": {
    "name": "ipython",
    "version": 3
   },
   "file_extension": ".py",
   "mimetype": "text/x-python",
   "name": "python",
   "nbconvert_exporter": "python",
   "pygments_lexer": "ipython3",
   "version": "3.12.7"
  }
 },
 "nbformat": 4,
 "nbformat_minor": 5
}
